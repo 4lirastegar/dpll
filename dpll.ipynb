{
 "cells": [
  {
   "cell_type": "code",
   "execution_count": 116,
   "metadata": {},
   "outputs": [],
   "source": [
    "def parse_formula(formula):\n",
    "    literals = {}\n",
    "    literal_id = 1\n",
    "    clauses = []\n",
    "\n",
    "    def get_literal_id(literal):\n",
    "        nonlocal literal_id\n",
    "        if literal not in literals:\n",
    "            literals[literal] = literal_id\n",
    "            literal_id += 1\n",
    "        return literals[literal]\n",
    "\n",
    "    for clause in formula.split(')('):\n",
    "        clause = clause.replace('(', '').replace(')', '')\n",
    "        if clause == '':\n",
    "            clauses.append(set())  # Add an empty clause\n",
    "            continue\n",
    "        literals_in_clause = set()\n",
    "        for literal in clause.split('|'):\n",
    "            if literal.startswith('!'):\n",
    "                literals_in_clause.add(-get_literal_id(literal[1:]))\n",
    "            else:\n",
    "                literals_in_clause.add(get_literal_id(literal))\n",
    "        clauses.append(literals_in_clause)\n",
    "\n",
    "    return clauses, {v: k for k, v in literals.items()}\n"
   ]
  },
  {
   "cell_type": "code",
   "execution_count": 177,
   "metadata": {},
   "outputs": [
    {
     "name": "stdout",
     "output_type": "stream",
     "text": [
      "clauses:  [{1, 3, -2}, {-5, 4, -3}, {5, -1, -2}, {2, 4}, {1, -3, 5}]\n",
      "literals map:  {1: 'a', 2: 'b', 3: 'c', 4: 'd', 5: 'e'}\n"
     ]
    }
   ],
   "source": [
    "formula = \"(a|!b|c)(!c|d|!e)(!a|!b|e)(d|b)(e|a|!c)\"\n",
    "clauses, literals_map = parse_formula(formula)\n",
    "\n",
    "print(\"clauses: \",clauses)\n",
    "print(\"literals map: \",literals_map)\n",
    "# literal=-2\n",
    "# print(literals_map[-literal])"
   ]
  },
  {
   "cell_type": "markdown",
   "metadata": {},
   "source": [
    "### Printing Purposes"
   ]
  },
  {
   "cell_type": "code",
   "execution_count": 166,
   "metadata": {},
   "outputs": [],
   "source": [
    "def convert_clause_to_literals(clause, literals_map):\n",
    "    return {literals_map[abs(lit)] if lit > 0 else f'!{literals_map[abs(lit)]}' for lit in clause}\n",
    "\n",
    "# clause_ex={1,-2,3}\n",
    "# literals_map_ex={1: 'a', 2: 'b', 3: 'c'}\n",
    "# print(convert_clause_to_literals(clause_ex,literals_map_ex))\n",
    "\n",
    "def print_clauses(clauses, literals_map,message):\n",
    "    print(f'{message} : ', [convert_clause_to_literals(clause, literals_map) for clause in clauses])"
   ]
  },
  {
   "cell_type": "markdown",
   "metadata": {},
   "source": [
    "## Unit propagataion"
   ]
  },
  {
   "cell_type": "code",
   "execution_count": 119,
   "metadata": {},
   "outputs": [],
   "source": [
    "def unit_literal(clauses,literals_map,step,assignment):\n",
    "    unit_clauses = [c for c in clauses if len(c) == 1]\n",
    "    print_clauses(unit_clauses,literals_map,\"Unit Clauses\")\n",
    "  \n",
    "    while unit_clauses:\n",
    "        step += 1\n",
    "        unit_clause = unit_clauses[0]\n",
    "        literal = next(iter(unit_clause))\n",
    "        print(\"STEP= \" ,step)\n",
    "\n",
    "        # if literal is bigger than 0, it is positive and we set it to True, otherwise it is negative and we set it to False\n",
    "        if literal > 0:\n",
    "            print(f'The Unit Clause Chosen: ({literals_map[literal]})')\n",
    "            assignment[literals_map[literal]] = True\n",
    "        else:\n",
    "            print(f'The Unit Clause Chosen: (!{literals_map[-literal]})')\n",
    "            #  if literal is -3 or \"!c\" ==> literals_map[-literal] is 3 or \"c\"\n",
    "            assignment[literals_map[-literal]] = False\n",
    "            \n",
    "        new_clauses = []\n",
    "        for clause in clauses:\n",
    "            if literal in clause:\n",
    "                continue  # Clause is satisfied, skip it\n",
    "            new_clause = {l for l in clause if l != -literal}\n",
    "            new_clauses.append(new_clause)\n",
    "        clauses = new_clauses\n",
    "        print_clauses(clauses,literals_map,\"New Clauses\")\n",
    "        unit_clauses = [c for c in clauses if len(c) == 1]\n",
    "        # print(f'Unit Clauses: {unit_clauses}')\n",
    "        \n",
    "    print(\"No Unit Clauses Left\")\n",
    "    return clauses,step\n"
   ]
  },
  {
   "cell_type": "markdown",
   "metadata": {},
   "source": [
    "## Pure Literal elimination"
   ]
  },
  {
   "cell_type": "code",
   "execution_count": 179,
   "metadata": {},
   "outputs": [],
   "source": [
    "def pure_literal(clauses, literals_map, step, assignment):\n",
    "    print(\"*********************************\")\n",
    "    print(\"Pure Literal Elimination\")\n",
    "    print_clauses(clauses, literals_map, \"Clauses\")\n",
    "    while True:\n",
    "        print(f'STEP= {step+1}')\n",
    "\n",
    "        # Union of all literals in all clauses for finding unique literals\n",
    "        literals = set()\n",
    "        for clause in clauses:\n",
    "            literals |= clause\n",
    "        \n",
    "        # find pure literals\n",
    "        pure_literals = set()\n",
    "        for literal in literals:\n",
    "            if -literal not in literals:\n",
    "                pure_literals.add(literal)\n",
    "        \n",
    "        if not pure_literals:  # If there are no more pure literals, exit the loop\n",
    "            break\n",
    "        \n",
    "        #  print pure literals\n",
    "        pure_literals_alpha = {literals_map[abs(literal)] if literal > 0 else '!' + literals_map[abs(literal)] for literal in pure_literals}\n",
    "        # print(f'STEP= {step}')\n",
    "        print(f'Pure Literals: {pure_literals_alpha}')\n",
    "        for literal in pure_literals:\n",
    "            if literal > 0:\n",
    "                assignment[literals_map[literal]] = True\n",
    "            else:\n",
    "                assignment[literals_map[-literal]] = False\n",
    "                \n",
    "        step += 1\n",
    "\n",
    "        new_clauses = []\n",
    "        for clause in clauses:\n",
    "            if not clause & pure_literals:\n",
    "                new_clauses.append(clause)\n",
    "        \n",
    "        clauses = new_clauses\n",
    "        print_clauses(clauses, literals_map, \"New Clauses\")\n",
    "    \n",
    "    return clauses, step"
   ]
  },
  {
   "cell_type": "markdown",
   "metadata": {},
   "source": [
    "## literal choose for branching"
   ]
  },
  {
   "cell_type": "code",
   "execution_count": 131,
   "metadata": {},
   "outputs": [],
   "source": [
    "def choose_literal(clauses):\n",
    "    for clause in clauses:\n",
    "        for literal in clause:\n",
    "            return literal\n",
    "    return None"
   ]
  },
  {
   "cell_type": "markdown",
   "metadata": {},
   "source": [
    "## Check Satisfiability Function"
   ]
  },
  {
   "cell_type": "code",
   "execution_count": 169,
   "metadata": {},
   "outputs": [],
   "source": [
    "def is_satisfiable(clauses, literals_map, step, assignment):\n",
    "    print(f\"STEP {step} - \", end=\"\")\n",
    "    print_clauses(clauses, literals_map, \"Formula\")\n",
    "    \n",
    "\n",
    "    #  if no clause remains the formula is satisfiable = True\n",
    "    if not clauses:\n",
    "        print(\"Final Assignment: \", assignment)\n",
    "        return True\n",
    "    # if there is an empty clause, the formula is unsatisfiable = False\n",
    "    if any(len(clause) == 0 for clause in clauses):\n",
    "        print(\"Final Assignment: \", assignment)\n",
    "        return False\n",
    "\n",
    "    old_clauses = clauses[:]\n",
    "    clauses, step = unit_literal(clauses, literals_map, step, assignment)\n",
    "    clauses, step = pure_literal(clauses, literals_map, step, assignment)\n",
    "    print(\"*********************************\")\n",
    "    \n",
    "    if clauses == old_clauses:\n",
    "        literal = choose_literal(clauses)\n",
    "        if literal is None:\n",
    "            return False\n",
    "        \n",
    "        print(f\"Branching on literal: {literals_map[abs(literal)]}\")\n",
    "        \n",
    "        # Branch where literal is True\n",
    "        print(f\"Trying {literals_map[abs(literal)]} = True\")\n",
    "        new_clauses_true = []\n",
    "        for clause in clauses:\n",
    "            if literal in clause:\n",
    "                continue  # Clause is satisfied, skip it\n",
    "            new_clause = {l for l in clause if l != -literal}\n",
    "            new_clauses_true.append(new_clause)\n",
    "        assignment_true = assignment.copy()\n",
    "        if literal > 0:\n",
    "            assignment_true[literals_map[literal]] = True\n",
    "        else:\n",
    "            assignment_true[literals_map[-literal]] = False\n",
    "        if is_satisfiable(new_clauses_true, literals_map, step + 1, assignment_true):\n",
    "            return True\n",
    "\n",
    "        # Branch where literal is False\n",
    "        print(f\"Trying {literals_map[abs(literal)]} = False\")\n",
    "        new_clauses_false = []\n",
    "        for clause in clauses:\n",
    "            if -literal in clause:\n",
    "                continue  # Clause is satisfied, skip it\n",
    "            new_clause = {l for l in clause if l != literal}\n",
    "            new_clauses_false.append(new_clause)\n",
    "        assignment_false = assignment.copy()\n",
    "        if literal > 0:\n",
    "            assignment_false[literals_map[literal]] = False\n",
    "        else:\n",
    "            assignment_false[literals_map[-literal]] = True\n",
    "        return is_satisfiable(new_clauses_false, literals_map, step + 1, assignment_false)\n",
    "\n",
    "    return is_satisfiable(clauses, literals_map, step + 1, assignment)"
   ]
  },
  {
   "cell_type": "code",
   "execution_count": 178,
   "metadata": {},
   "outputs": [
    {
     "name": "stdout",
     "output_type": "stream",
     "text": [
      "STEP 0 - Formula :  [{'c', '!b', 'a'}, {'!c', 'd', '!e'}, {'e', '!b', '!a'}, {'d', 'b'}, {'!c', 'e', 'a'}]\n",
      "Unit Clauses :  []\n",
      "No Unit Clauses Left\n",
      "*********************************\n",
      "Pure Literal Elimination\n",
      "Clauses :  [{'c', '!b', 'a'}, {'!c', 'd', '!e'}, {'e', '!b', '!a'}, {'d', 'b'}, {'!c', 'e', 'a'}]\n",
      "STEP= 1\n",
      "Pure Literals: {'d'}\n",
      "New Clauses :  [{'c', '!b', 'a'}, {'e', '!b', '!a'}, {'!c', 'e', 'a'}]\n",
      "STEP= 2\n",
      "Pure Literals: {'e', '!b'}\n",
      "New Clauses :  []\n",
      "STEP= 3\n",
      "*********************************\n",
      "STEP 3 - Formula :  []\n",
      "Final Assignment:  {'d': True, 'e': True, 'b': False}\n"
     ]
    },
    {
     "data": {
      "text/plain": [
       "True"
      ]
     },
     "execution_count": 178,
     "metadata": {},
     "output_type": "execute_result"
    }
   ],
   "source": [
    "assignment = {}\n",
    "is_satisfiable(clauses, literals_map, 0, assignment)"
   ]
  }
 ],
 "metadata": {
  "kernelspec": {
   "display_name": "Python 3",
   "language": "python",
   "name": "python3"
  },
  "language_info": {
   "codemirror_mode": {
    "name": "ipython",
    "version": 3
   },
   "file_extension": ".py",
   "mimetype": "text/x-python",
   "name": "python",
   "nbconvert_exporter": "python",
   "pygments_lexer": "ipython3",
   "version": "3.9.6"
  }
 },
 "nbformat": 4,
 "nbformat_minor": 2
}
